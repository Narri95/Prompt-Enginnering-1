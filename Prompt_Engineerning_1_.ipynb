{
  "nbformat": 4,
  "nbformat_minor": 0,
  "metadata": {
    "colab": {
      "provenance": []
    },
    "kernelspec": {
      "name": "python3",
      "display_name": "Python 3"
    },
    "language_info": {
      "name": "python"
    }
  },
  "cells": [
    {
      "cell_type": "code",
      "execution_count": null,
      "metadata": {
        "id": "dqUxm_IhL3MW"
      },
      "outputs": [],
      "source": [
        "!pip install openai\n",
        "!pip install langchain"
      ]
    },
    {
      "cell_type": "code",
      "source": [
        "openai_api_key=\"\""
      ],
      "metadata": {
        "id": "HrYuXkknL7fn"
      },
      "execution_count": null,
      "outputs": []
    },
    {
      "cell_type": "code",
      "source": [
        "from langchain.prompts import PromptTemplate\n",
        "\n",
        "\n",
        "demo_template=''' I want you to act as a acting financial advisor for people.\n",
        " In an easy way, explain the basics of {financial_concept}.'''\n",
        "\n",
        "\n",
        "prompt=PromptTemplate(\n",
        "    input_variables=['financial_concept'],\n",
        "    template=demo_template\n",
        " )\n",
        "\n",
        "\n",
        "prompt.format(financial_concept='income tax')"
      ],
      "metadata": {
        "id": "cZlQTLtzMEGq"
      },
      "execution_count": null,
      "outputs": []
    },
    {
      "cell_type": "code",
      "source": [
        "from langchain.llms import OpenAI\n",
        "from langchain import LLMChain\n",
        "from langchain.prompts import PromptTemplate\n",
        "\n",
        "llm=OpenAI(temperature=0.7, openai_api_key=\"\")\n",
        "chain1= LLMChain( llm=llm, prompt=prompt)"
      ],
      "metadata": {
        "id": "ikEfaTnxNtCo"
      },
      "execution_count": null,
      "outputs": []
    },
    {
      "cell_type": "code",
      "source": [
        "chain1.run('Assets')\n"
      ],
      "metadata": {
        "id": "YfQTRYVVPbq1"
      },
      "execution_count": null,
      "outputs": []
    },
    {
      "cell_type": "code",
      "source": [],
      "metadata": {
        "id": "fdQRLTkrRubm"
      },
      "execution_count": null,
      "outputs": []
    }
  ]
}